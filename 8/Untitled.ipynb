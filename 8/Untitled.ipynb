{
 "cells": [
  {
   "cell_type": "code",
   "execution_count": 17,
   "metadata": {},
   "outputs": [],
   "source": [
    "def parse(filename):\n",
    "    with open(filename) as f:\n",
    "        for line in f:\n",
    "            data = line.split()\n",
    "            yield [data[0], int(data[1]), []]"
   ]
  },
  {
   "cell_type": "code",
   "execution_count": 64,
   "metadata": {},
   "outputs": [],
   "source": [
    "def run_program(instructions, index, accumulator):\n",
    "    if instructions[index][0] == 'jmp':\n",
    "        accumulator += 0\n",
    "        index += instructions[index][1]\n",
    "        \n",
    "    elif instructions[index][0] == 'acc':\n",
    "        accumulator += instructions[index][1]\n",
    "        index += 1\n",
    "        \n",
    "    elif instructions[index][0] == 'nop':\n",
    "        accumulator += 0\n",
    "        index += 1\n",
    "        \n",
    "    return index, accumulator\n",
    "        \n",
    "    \n",
    "def part1(instructions):\n",
    "    index = 0\n",
    "    accumulator = 0\n",
    "    for ii in range(1, 1000):\n",
    "#        print(f\"{ii}, {accumulator}\")\n",
    "        instructions[index][2] += [ii]\n",
    "        if len(instructions[index][2]) > 1:\n",
    "            break\n",
    "        \n",
    "        index, accumulator = run_program(instructions, index, accumulator)\n",
    "    \n",
    "    return accumulator"
   ]
  },
  {
   "cell_type": "code",
   "execution_count": 65,
   "metadata": {},
   "outputs": [
    {
     "data": {
      "text/plain": [
       "5"
      ]
     },
     "execution_count": 65,
     "metadata": {},
     "output_type": "execute_result"
    }
   ],
   "source": [
    "test_instructions = list(parse('input_test.txt'))\n",
    "part1(test_instructions)"
   ]
  },
  {
   "cell_type": "code",
   "execution_count": 67,
   "metadata": {},
   "outputs": [
    {
     "data": {
      "text/plain": [
       "1594"
      ]
     },
     "execution_count": 67,
     "metadata": {},
     "output_type": "execute_result"
    }
   ],
   "source": [
    "instructions = list(parse('input.txt'))\n",
    "part1(instructions)"
   ]
  },
  {
   "cell_type": "markdown",
   "metadata": {},
   "source": [
    "## Part 2"
   ]
  },
  {
   "cell_type": "code",
   "execution_count": 68,
   "metadata": {},
   "outputs": [
    {
     "data": {
      "text/plain": [
       "656"
      ]
     },
     "execution_count": 68,
     "metadata": {},
     "output_type": "execute_result"
    }
   ],
   "source": [
    "len(instructions)"
   ]
  },
  {
   "cell_type": "code",
   "execution_count": 92,
   "metadata": {},
   "outputs": [],
   "source": [
    "def part2(instructions):\n",
    "    index = 0\n",
    "    accumulator = 0\n",
    "    \n",
    "    for ii in range(1, 100000):\n",
    "        \n",
    "        # Check for correct finish\n",
    "        if index == len(instructions):\n",
    "            return accumulator\n",
    "        \n",
    "        # Check for index beyond end\n",
    "        if index > len(instructions):\n",
    "            return False\n",
    "        \n",
    "        # Check for loops\n",
    "        instructions[index][2] += [ii]\n",
    "        if len(instructions[index][2]) > 1:\n",
    "            return False\n",
    "    \n",
    "        index, accumulator = run_program(instructions, index, accumulator)"
   ]
  },
  {
   "cell_type": "code",
   "execution_count": 93,
   "metadata": {},
   "outputs": [],
   "source": [
    "test_instructions = list(parse('input_test.txt'))\n",
    "\n",
    "for i in range(len(test_instructions)):\n",
    "    test_instructions = list(parse('input_test.txt'))\n",
    "    if test_instructions[i][0] == 'jmp':\n",
    "        test_instructions[i][0] = 'nop'\n",
    "    elif test_instructions[i][0] == 'nop':\n",
    "        test_instructions[i][0] = 'jmp'\n",
    "    \n",
    "    val = part2(test_instructions)\n",
    "    if val:\n",
    "        break"
   ]
  },
  {
   "cell_type": "code",
   "execution_count": 94,
   "metadata": {},
   "outputs": [
    {
     "data": {
      "text/plain": [
       "8"
      ]
     },
     "execution_count": 94,
     "metadata": {},
     "output_type": "execute_result"
    }
   ],
   "source": [
    "val"
   ]
  },
  {
   "cell_type": "code",
   "execution_count": 103,
   "metadata": {},
   "outputs": [],
   "source": [
    "instructions = list(parse('input.txt'))\n",
    "\n",
    "for i in range(len(instructions)):\n",
    "    instructions = list(parse('input.txt'))\n",
    "    if instructions[i][0] == 'jmp':\n",
    "        instructions[i][0] = 'nop'\n",
    "    elif instructions[i][0] == 'nop':\n",
    "        instructions[i][0] = 'jmp'\n",
    "    \n",
    "    val = part2(instructions)\n",
    "    if val:\n",
    "        break"
   ]
  },
  {
   "cell_type": "code",
   "execution_count": 104,
   "metadata": {},
   "outputs": [
    {
     "data": {
      "text/plain": [
       "758"
      ]
     },
     "execution_count": 104,
     "metadata": {},
     "output_type": "execute_result"
    }
   ],
   "source": [
    "val"
   ]
  },
  {
   "cell_type": "code",
   "execution_count": 105,
   "metadata": {},
   "outputs": [
    {
     "data": {
      "text/plain": [
       "364"
      ]
     },
     "execution_count": 105,
     "metadata": {},
     "output_type": "execute_result"
    }
   ],
   "source": [
    "i"
   ]
  }
 ],
 "metadata": {
  "kernelspec": {
   "display_name": "Python 3",
   "language": "python",
   "name": "python3"
  },
  "language_info": {
   "codemirror_mode": {
    "name": "ipython",
    "version": 3
   },
   "file_extension": ".py",
   "mimetype": "text/x-python",
   "name": "python",
   "nbconvert_exporter": "python",
   "pygments_lexer": "ipython3",
   "version": "3.7.7"
  }
 },
 "nbformat": 4,
 "nbformat_minor": 4
}
