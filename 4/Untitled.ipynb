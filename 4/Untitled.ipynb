{
 "cells": [
  {
   "cell_type": "code",
   "execution_count": 1,
   "metadata": {},
   "outputs": [],
   "source": [
    "import pandas as pd"
   ]
  },
  {
   "cell_type": "code",
   "execution_count": 35,
   "metadata": {},
   "outputs": [],
   "source": [
    "def yield_results():\n",
    "    with open('input.txt') as f:\n",
    "        pass_dict = {}\n",
    "        for line in f:\n",
    "            if line == '\\n':\n",
    "                yield pd.Series(pass_dict)\n",
    "                pass_dict = {}\n",
    "            \n",
    "            else:\n",
    "                pairs = line.split()\n",
    "                for pair in pairs:\n",
    "                    key, val = pair.split(':')\n",
    "                    pass_dict[key] = val\n",
    "        \n",
    "        yield pd.Series(pass_dict)"
   ]
  },
  {
   "cell_type": "code",
   "execution_count": 36,
   "metadata": {},
   "outputs": [],
   "source": [
    "df = pd.DataFrame(yield_results())"
   ]
  },
  {
   "cell_type": "code",
   "execution_count": 38,
   "metadata": {},
   "outputs": [
    {
     "data": {
      "text/html": [
       "<div>\n",
       "<style scoped>\n",
       "    .dataframe tbody tr th:only-of-type {\n",
       "        vertical-align: middle;\n",
       "    }\n",
       "\n",
       "    .dataframe tbody tr th {\n",
       "        vertical-align: top;\n",
       "    }\n",
       "\n",
       "    .dataframe thead th {\n",
       "        text-align: right;\n",
       "    }\n",
       "</style>\n",
       "<table border=\"1\" class=\"dataframe\">\n",
       "  <thead>\n",
       "    <tr style=\"text-align: right;\">\n",
       "      <th></th>\n",
       "      <th>byr</th>\n",
       "      <th>iyr</th>\n",
       "      <th>eyr</th>\n",
       "      <th>ecl</th>\n",
       "      <th>pid</th>\n",
       "      <th>hcl</th>\n",
       "      <th>hgt</th>\n",
       "      <th>cid</th>\n",
       "    </tr>\n",
       "  </thead>\n",
       "  <tbody>\n",
       "    <tr>\n",
       "      <th>0</th>\n",
       "      <td>2024</td>\n",
       "      <td>2016</td>\n",
       "      <td>2034</td>\n",
       "      <td>zzz</td>\n",
       "      <td>985592671</td>\n",
       "      <td>033b48</td>\n",
       "      <td>181</td>\n",
       "      <td>166</td>\n",
       "    </tr>\n",
       "    <tr>\n",
       "      <th>1</th>\n",
       "      <td>2020</td>\n",
       "      <td>2029</td>\n",
       "      <td>1947</td>\n",
       "      <td>zzz</td>\n",
       "      <td>152cm</td>\n",
       "      <td>cfb18a</td>\n",
       "      <td>66cm</td>\n",
       "      <td>NaN</td>\n",
       "    </tr>\n",
       "    <tr>\n",
       "      <th>2</th>\n",
       "      <td>NaN</td>\n",
       "      <td>2019</td>\n",
       "      <td>2023</td>\n",
       "      <td>gry</td>\n",
       "      <td>656793259</td>\n",
       "      <td>#888785</td>\n",
       "      <td>177cm</td>\n",
       "      <td>63</td>\n",
       "    </tr>\n",
       "    <tr>\n",
       "      <th>3</th>\n",
       "      <td>2018</td>\n",
       "      <td>1936</td>\n",
       "      <td>1928</td>\n",
       "      <td>dne</td>\n",
       "      <td>#5e832a</td>\n",
       "      <td>#7d3b0c</td>\n",
       "      <td>61cm</td>\n",
       "      <td>241</td>\n",
       "    </tr>\n",
       "    <tr>\n",
       "      <th>4</th>\n",
       "      <td>1957</td>\n",
       "      <td>2017</td>\n",
       "      <td>2025</td>\n",
       "      <td>oth</td>\n",
       "      <td>597580472</td>\n",
       "      <td>#888785</td>\n",
       "      <td>187cm</td>\n",
       "      <td>247</td>\n",
       "    </tr>\n",
       "    <tr>\n",
       "      <th>...</th>\n",
       "      <td>...</td>\n",
       "      <td>...</td>\n",
       "      <td>...</td>\n",
       "      <td>...</td>\n",
       "      <td>...</td>\n",
       "      <td>...</td>\n",
       "      <td>...</td>\n",
       "      <td>...</td>\n",
       "    </tr>\n",
       "    <tr>\n",
       "      <th>294</th>\n",
       "      <td>1992</td>\n",
       "      <td>2016</td>\n",
       "      <td>2028</td>\n",
       "      <td>hzl</td>\n",
       "      <td>092856842</td>\n",
       "      <td>#b6652a</td>\n",
       "      <td>189cm</td>\n",
       "      <td>222</td>\n",
       "    </tr>\n",
       "    <tr>\n",
       "      <th>295</th>\n",
       "      <td>2023</td>\n",
       "      <td>2025</td>\n",
       "      <td>2005</td>\n",
       "      <td>#be1503</td>\n",
       "      <td>9311657615</td>\n",
       "      <td>a3c52a</td>\n",
       "      <td>182cm</td>\n",
       "      <td>NaN</td>\n",
       "    </tr>\n",
       "    <tr>\n",
       "      <th>296</th>\n",
       "      <td>1988</td>\n",
       "      <td>2028</td>\n",
       "      <td>2035</td>\n",
       "      <td>utc</td>\n",
       "      <td>9743739773</td>\n",
       "      <td>#18171d</td>\n",
       "      <td>193cm</td>\n",
       "      <td>128</td>\n",
       "    </tr>\n",
       "    <tr>\n",
       "      <th>297</th>\n",
       "      <td>2026</td>\n",
       "      <td>2028</td>\n",
       "      <td>1943</td>\n",
       "      <td>zzz</td>\n",
       "      <td>160cm</td>\n",
       "      <td>z</td>\n",
       "      <td>64cm</td>\n",
       "      <td>74</td>\n",
       "    </tr>\n",
       "    <tr>\n",
       "      <th>298</th>\n",
       "      <td>1959</td>\n",
       "      <td>2010</td>\n",
       "      <td>2021</td>\n",
       "      <td>oth</td>\n",
       "      <td>874577361</td>\n",
       "      <td>#c0946f</td>\n",
       "      <td>160cm</td>\n",
       "      <td>NaN</td>\n",
       "    </tr>\n",
       "  </tbody>\n",
       "</table>\n",
       "<p>299 rows × 8 columns</p>\n",
       "</div>"
      ],
      "text/plain": [
       "      byr   iyr   eyr      ecl         pid      hcl    hgt  cid\n",
       "0    2024  2016  2034      zzz   985592671   033b48    181  166\n",
       "1    2020  2029  1947      zzz       152cm   cfb18a   66cm  NaN\n",
       "2     NaN  2019  2023      gry   656793259  #888785  177cm   63\n",
       "3    2018  1936  1928      dne     #5e832a  #7d3b0c   61cm  241\n",
       "4    1957  2017  2025      oth   597580472  #888785  187cm  247\n",
       "..    ...   ...   ...      ...         ...      ...    ...  ...\n",
       "294  1992  2016  2028      hzl   092856842  #b6652a  189cm  222\n",
       "295  2023  2025  2005  #be1503  9311657615   a3c52a  182cm  NaN\n",
       "296  1988  2028  2035      utc  9743739773  #18171d  193cm  128\n",
       "297  2026  2028  1943      zzz       160cm        z   64cm   74\n",
       "298  1959  2010  2021      oth   874577361  #c0946f  160cm  NaN\n",
       "\n",
       "[299 rows x 8 columns]"
      ]
     },
     "execution_count": 38,
     "metadata": {},
     "output_type": "execute_result"
    }
   ],
   "source": [
    "df"
   ]
  },
  {
   "cell_type": "code",
   "execution_count": 39,
   "metadata": {},
   "outputs": [
    {
     "data": {
      "text/html": [
       "<div>\n",
       "<style scoped>\n",
       "    .dataframe tbody tr th:only-of-type {\n",
       "        vertical-align: middle;\n",
       "    }\n",
       "\n",
       "    .dataframe tbody tr th {\n",
       "        vertical-align: top;\n",
       "    }\n",
       "\n",
       "    .dataframe thead th {\n",
       "        text-align: right;\n",
       "    }\n",
       "</style>\n",
       "<table border=\"1\" class=\"dataframe\">\n",
       "  <thead>\n",
       "    <tr style=\"text-align: right;\">\n",
       "      <th></th>\n",
       "      <th>byr</th>\n",
       "      <th>iyr</th>\n",
       "      <th>eyr</th>\n",
       "      <th>ecl</th>\n",
       "      <th>pid</th>\n",
       "      <th>hcl</th>\n",
       "      <th>hgt</th>\n",
       "      <th>cid</th>\n",
       "    </tr>\n",
       "  </thead>\n",
       "  <tbody>\n",
       "    <tr>\n",
       "      <th>297</th>\n",
       "      <td>2026</td>\n",
       "      <td>2028</td>\n",
       "      <td>1943</td>\n",
       "      <td>zzz</td>\n",
       "      <td>160cm</td>\n",
       "      <td>z</td>\n",
       "      <td>64cm</td>\n",
       "      <td>74</td>\n",
       "    </tr>\n",
       "  </tbody>\n",
       "</table>\n",
       "</div>"
      ],
      "text/plain": [
       "      byr   iyr   eyr  ecl    pid hcl   hgt cid\n",
       "297  2026  2028  1943  zzz  160cm   z  64cm  74"
      ]
     },
     "execution_count": 39,
     "metadata": {},
     "output_type": "execute_result"
    }
   ],
   "source": [
    "df[df.cid == '74']"
   ]
  },
  {
   "cell_type": "code",
   "execution_count": 48,
   "metadata": {},
   "outputs": [],
   "source": [
    "df_valid = df.drop('cid',1).dropna()"
   ]
  },
  {
   "cell_type": "code",
   "execution_count": 56,
   "metadata": {},
   "outputs": [],
   "source": [
    "df_valid = df_valid[df_valid.byr.astype(str).apply(len) == 4]\n",
    "df_valid = df_valid[df_valid.iyr.astype(str).apply(len) == 4]\n",
    "df_valid = df_valid[df_valid.eyr.astype(str).apply(len) == 4]\n",
    "df_valid = df_valid[df_valid.pid.astype(str).apply(len) == 9]"
   ]
  },
  {
   "cell_type": "code",
   "execution_count": 58,
   "metadata": {},
   "outputs": [],
   "source": [
    "# byr (Birth Year) - four digits; at least 1920 and at most 2002.\n",
    "# iyr (Issue Year) - four digits; at least 2010 and at most 2020.\n",
    "# eyr (Expiration Year) - four digits; at least 2020 and at most 2030.\n",
    "# hgt (Height) - a number followed by either cm or in:\n",
    "# If cm, the number must be at least 150 and at most 193.\n",
    "# If in, the number must be at least 59 and at most 76.\n",
    "# hcl (Hair Color) - a # followed by exactly six characters 0-9 or a-f.\n",
    "# ecl (Eye Color) - exactly one of: amb blu brn gry grn hzl oth.\n",
    "# pid (Passport ID) - a nine-digit number, including leading zeroes.\n",
    "# cid (Country ID) - ignored, missing or not."
   ]
  },
  {
   "cell_type": "code",
   "execution_count": 61,
   "metadata": {},
   "outputs": [],
   "source": [
    "df_valid = df_valid[\n",
    "    (df_valid.byr.astype(int) <= 2002) & (df_valid.byr.astype(int) >= 1920) &\n",
    "    (df_valid.iyr.astype(int) <= 2020) & (df_valid.iyr.astype(int) >= 2010) &\n",
    "    (df_valid.eyr.astype(int) <= 2030) & (df_valid.eyr.astype(int) >= 2020)]"
   ]
  },
  {
   "cell_type": "code",
   "execution_count": 64,
   "metadata": {},
   "outputs": [
    {
     "data": {
      "text/plain": [
       "4      187cm\n",
       "6      156cm\n",
       "7      193cm\n",
       "12     190cm\n",
       "13     185cm\n",
       "       ...  \n",
       "285    183cm\n",
       "289    173cm\n",
       "291    150cm\n",
       "294    189cm\n",
       "298    160cm\n",
       "Name: hgt, Length: 153, dtype: object"
      ]
     },
     "execution_count": 64,
     "metadata": {},
     "output_type": "execute_result"
    }
   ],
   "source": [
    "df_valid.hgt"
   ]
  },
  {
   "cell_type": "code",
   "execution_count": 68,
   "metadata": {},
   "outputs": [],
   "source": [
    "# hgt (Height) - a number followed by either cm or in:\n",
    "# If cm, the number must be at least 150 and at most 193.\n",
    "# If in, the number must be at least 59 and at most 76."
   ]
  },
  {
   "cell_type": "code",
   "execution_count": 69,
   "metadata": {},
   "outputs": [
    {
     "name": "stderr",
     "output_type": "stream",
     "text": [
      "/Users/pstjohn/miniconda3/lib/python3.7/site-packages/pandas/core/strings.py:1954: UserWarning: This pattern has match groups. To actually get the groups, use str.extract.\n",
      "  return func(self, *args, **kwargs)\n"
     ]
    }
   ],
   "source": [
    "df_valid = df_valid[df_valid.hgt.str.contains('\\d+(cm)|(in)')]"
   ]
  },
  {
   "cell_type": "code",
   "execution_count": 72,
   "metadata": {},
   "outputs": [],
   "source": [
    "height = df_valid.hgt.str.extract('(\\d+)(\\S+)')"
   ]
  },
  {
   "cell_type": "code",
   "execution_count": 76,
   "metadata": {},
   "outputs": [],
   "source": [
    "cm_valid = (height[height[1] == 'cm'][0].astype(int) >= 150) & (height[height[1] == 'cm'][0].astype(int) <= 193)\n",
    "in_valid = (height[height[1] == 'in'][0].astype(int) >= 59) & (height[height[1] == 'in'][0].astype(int) <= 76)"
   ]
  },
  {
   "cell_type": "code",
   "execution_count": 83,
   "metadata": {},
   "outputs": [],
   "source": [
    "df_valid_height = df_valid[df_valid.index.isin(cm_valid[cm_valid].append(in_valid[in_valid]).index)]"
   ]
  },
  {
   "cell_type": "code",
   "execution_count": 87,
   "metadata": {},
   "outputs": [],
   "source": [
    "ecl = df_valid_height[df_valid_height.hcl.str.contains('#[0-9a-f]{6}') & \n",
    "                      df_valid_height.ecl.isin({'amb', 'blu', 'brn', 'gry', 'grn', 'hzl', 'oth'})]"
   ]
  },
  {
   "cell_type": "code",
   "execution_count": 93,
   "metadata": {},
   "outputs": [
    {
     "data": {
      "text/plain": [
       "False"
      ]
     },
     "execution_count": 93,
     "metadata": {},
     "output_type": "execute_result"
    }
   ],
   "source": [
    "ecl.pid.astype(int).isna().any()"
   ]
  },
  {
   "cell_type": "code",
   "execution_count": 94,
   "metadata": {},
   "outputs": [
    {
     "data": {
      "text/html": [
       "<div>\n",
       "<style scoped>\n",
       "    .dataframe tbody tr th:only-of-type {\n",
       "        vertical-align: middle;\n",
       "    }\n",
       "\n",
       "    .dataframe tbody tr th {\n",
       "        vertical-align: top;\n",
       "    }\n",
       "\n",
       "    .dataframe thead th {\n",
       "        text-align: right;\n",
       "    }\n",
       "</style>\n",
       "<table border=\"1\" class=\"dataframe\">\n",
       "  <thead>\n",
       "    <tr style=\"text-align: right;\">\n",
       "      <th></th>\n",
       "      <th>byr</th>\n",
       "      <th>iyr</th>\n",
       "      <th>eyr</th>\n",
       "      <th>ecl</th>\n",
       "      <th>pid</th>\n",
       "      <th>hcl</th>\n",
       "      <th>hgt</th>\n",
       "    </tr>\n",
       "  </thead>\n",
       "  <tbody>\n",
       "    <tr>\n",
       "      <th>4</th>\n",
       "      <td>1957</td>\n",
       "      <td>2017</td>\n",
       "      <td>2025</td>\n",
       "      <td>oth</td>\n",
       "      <td>597580472</td>\n",
       "      <td>#888785</td>\n",
       "      <td>187cm</td>\n",
       "    </tr>\n",
       "    <tr>\n",
       "      <th>6</th>\n",
       "      <td>1972</td>\n",
       "      <td>2018</td>\n",
       "      <td>2024</td>\n",
       "      <td>amb</td>\n",
       "      <td>349191561</td>\n",
       "      <td>#341e13</td>\n",
       "      <td>156cm</td>\n",
       "    </tr>\n",
       "    <tr>\n",
       "      <th>7</th>\n",
       "      <td>1998</td>\n",
       "      <td>2013</td>\n",
       "      <td>2021</td>\n",
       "      <td>brn</td>\n",
       "      <td>408617933</td>\n",
       "      <td>#fffffd</td>\n",
       "      <td>193cm</td>\n",
       "    </tr>\n",
       "    <tr>\n",
       "      <th>12</th>\n",
       "      <td>1927</td>\n",
       "      <td>2010</td>\n",
       "      <td>2023</td>\n",
       "      <td>brn</td>\n",
       "      <td>941290886</td>\n",
       "      <td>#c0946f</td>\n",
       "      <td>190cm</td>\n",
       "    </tr>\n",
       "    <tr>\n",
       "      <th>13</th>\n",
       "      <td>1926</td>\n",
       "      <td>2011</td>\n",
       "      <td>2026</td>\n",
       "      <td>grn</td>\n",
       "      <td>423210256</td>\n",
       "      <td>#efcc98</td>\n",
       "      <td>185cm</td>\n",
       "    </tr>\n",
       "    <tr>\n",
       "      <th>...</th>\n",
       "      <td>...</td>\n",
       "      <td>...</td>\n",
       "      <td>...</td>\n",
       "      <td>...</td>\n",
       "      <td>...</td>\n",
       "      <td>...</td>\n",
       "      <td>...</td>\n",
       "    </tr>\n",
       "    <tr>\n",
       "      <th>285</th>\n",
       "      <td>1999</td>\n",
       "      <td>2013</td>\n",
       "      <td>2029</td>\n",
       "      <td>hzl</td>\n",
       "      <td>655501194</td>\n",
       "      <td>#a97842</td>\n",
       "      <td>183cm</td>\n",
       "    </tr>\n",
       "    <tr>\n",
       "      <th>289</th>\n",
       "      <td>1948</td>\n",
       "      <td>2016</td>\n",
       "      <td>2021</td>\n",
       "      <td>hzl</td>\n",
       "      <td>176430746</td>\n",
       "      <td>#7d3b0c</td>\n",
       "      <td>173cm</td>\n",
       "    </tr>\n",
       "    <tr>\n",
       "      <th>291</th>\n",
       "      <td>1986</td>\n",
       "      <td>2019</td>\n",
       "      <td>2021</td>\n",
       "      <td>hzl</td>\n",
       "      <td>660176034</td>\n",
       "      <td>#c0946f</td>\n",
       "      <td>150cm</td>\n",
       "    </tr>\n",
       "    <tr>\n",
       "      <th>294</th>\n",
       "      <td>1992</td>\n",
       "      <td>2016</td>\n",
       "      <td>2028</td>\n",
       "      <td>hzl</td>\n",
       "      <td>92856842</td>\n",
       "      <td>#b6652a</td>\n",
       "      <td>189cm</td>\n",
       "    </tr>\n",
       "    <tr>\n",
       "      <th>298</th>\n",
       "      <td>1959</td>\n",
       "      <td>2010</td>\n",
       "      <td>2021</td>\n",
       "      <td>oth</td>\n",
       "      <td>874577361</td>\n",
       "      <td>#c0946f</td>\n",
       "      <td>160cm</td>\n",
       "    </tr>\n",
       "  </tbody>\n",
       "</table>\n",
       "<p>145 rows × 7 columns</p>\n",
       "</div>"
      ],
      "text/plain": [
       "      byr   iyr   eyr  ecl        pid      hcl    hgt\n",
       "4    1957  2017  2025  oth  597580472  #888785  187cm\n",
       "6    1972  2018  2024  amb  349191561  #341e13  156cm\n",
       "7    1998  2013  2021  brn  408617933  #fffffd  193cm\n",
       "12   1927  2010  2023  brn  941290886  #c0946f  190cm\n",
       "13   1926  2011  2026  grn  423210256  #efcc98  185cm\n",
       "..    ...   ...   ...  ...        ...      ...    ...\n",
       "285  1999  2013  2029  hzl  655501194  #a97842  183cm\n",
       "289  1948  2016  2021  hzl  176430746  #7d3b0c  173cm\n",
       "291  1986  2019  2021  hzl  660176034  #c0946f  150cm\n",
       "294  1992  2016  2028  hzl   92856842  #b6652a  189cm\n",
       "298  1959  2010  2021  oth  874577361  #c0946f  160cm\n",
       "\n",
       "[145 rows x 7 columns]"
      ]
     },
     "execution_count": 94,
     "metadata": {},
     "output_type": "execute_result"
    }
   ],
   "source": [
    "ecl"
   ]
  },
  {
   "cell_type": "code",
   "execution_count": null,
   "metadata": {},
   "outputs": [],
   "source": [
    "# hcl (Hair Color) - a # followed by exactly six characters 0-9 or a-f.\n",
    "# ecl (Eye Color) - exactly one of: amb blu brn gry grn hzl oth.\n",
    "\n",
    "# pid (Passport ID) - a nine-digit number, including leading zeroes."
   ]
  }
 ],
 "metadata": {
  "kernelspec": {
   "display_name": "Python 3",
   "language": "python",
   "name": "python3"
  },
  "language_info": {
   "codemirror_mode": {
    "name": "ipython",
    "version": 3
   },
   "file_extension": ".py",
   "mimetype": "text/x-python",
   "name": "python",
   "nbconvert_exporter": "python",
   "pygments_lexer": "ipython3",
   "version": "3.7.7"
  }
 },
 "nbformat": 4,
 "nbformat_minor": 4
}
