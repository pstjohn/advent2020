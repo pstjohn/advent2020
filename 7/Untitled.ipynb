{
 "cells": [
  {
   "cell_type": "code",
   "execution_count": 51,
   "metadata": {},
   "outputs": [],
   "source": [
    "import networkx as nx"
   ]
  },
  {
   "cell_type": "code",
   "execution_count": 52,
   "metadata": {},
   "outputs": [],
   "source": [
    "def parse(filename):\n",
    "    with open(filename) as f:\n",
    "        for line in f:\n",
    "\n",
    "            outer_bag, inner_bags = line.split(' contain ')\n",
    "\n",
    "            if 'no other bags' in inner_bags:\n",
    "                continue\n",
    "\n",
    "            for bag in inner_bags.split(', '):\n",
    "                count = int(bag[0])\n",
    "                name = bag[2:].strip('\\n').strip('.')\n",
    "                \n",
    "                yield outer_bag.rstrip('s'), name.rstrip('s'), {'count': count}"
   ]
  },
  {
   "cell_type": "code",
   "execution_count": 122,
   "metadata": {},
   "outputs": [
    {
     "data": {
      "text/plain": [
       "139"
      ]
     },
     "execution_count": 122,
     "metadata": {},
     "output_type": "execute_result"
    }
   ],
   "source": [
    "# Part 1\n",
    "G = nx.DiGraph()\n",
    "G.add_edges_from(parse('input.txt'))\n",
    "len(list(nx.dfs_postorder_nodes(G.reverse(), source='shiny gold bag'))) - 1"
   ]
  },
  {
   "cell_type": "code",
   "execution_count": 125,
   "metadata": {},
   "outputs": [
    {
     "data": {
      "text/plain": [
       "58175"
      ]
     },
     "execution_count": 125,
     "metadata": {},
     "output_type": "execute_result"
    }
   ],
   "source": [
    "# Part 2\n",
    "def total_bags(color):\n",
    "    containing_bags = 1  # the bag itself\n",
    "    for node in G.successors(color):\n",
    "        containing_bags += G[color][node]['count'] * total_bags(node)\n",
    "    return containing_bags\n",
    "\n",
    "total_bags('shiny gold bag') - 1"
   ]
  }
 ],
 "metadata": {
  "kernelspec": {
   "display_name": "Python 3",
   "language": "python",
   "name": "python3"
  },
  "language_info": {
   "codemirror_mode": {
    "name": "ipython",
    "version": 3
   },
   "file_extension": ".py",
   "mimetype": "text/x-python",
   "name": "python",
   "nbconvert_exporter": "python",
   "pygments_lexer": "ipython3",
   "version": "3.7.7"
  }
 },
 "nbformat": 4,
 "nbformat_minor": 4
}
